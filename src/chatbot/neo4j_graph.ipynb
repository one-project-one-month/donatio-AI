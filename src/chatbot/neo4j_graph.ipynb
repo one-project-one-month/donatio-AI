{
 "cells": [
  {
   "cell_type": "code",
   "execution_count": 19,
   "id": "ae2a706d",
   "metadata": {},
   "outputs": [],
   "source": [
    "from neo4j import GraphDatabase\n",
    "import os \n",
    "from langchain.graphs import Neo4jGraph\n",
    "\n",
    "# URI examples: \"neo4j://localhost\", \"neo4j+s://xxx.databases.neo4j.io\"\n",
    "\n",
    "uri = os.getenv('NEO4J_URI')\n",
    "user_name = os.getenv('NEO4J_USERNAME')\n",
    "password = os.getenv('NEO4J_PASSWORD')\n",
    "\n",
    "graph = Neo4jGraph(\n",
    "    url=\"neo4j+s://81acc431.databases.neo4j.io\", \n",
    "    username=\"neo4j\", \n",
    "    password=\"bnY_Fbfk3k7MsBPgBxgtUPsRnPPJnUYi7zk1c8azGyE\"\n",
    ")"
   ]
  },
  {
   "cell_type": "code",
   "execution_count": 22,
   "id": "63d259a2",
   "metadata": {},
   "outputs": [
    {
     "data": {
      "text/plain": [
       "[]"
      ]
     },
     "execution_count": 22,
     "metadata": {},
     "output_type": "execute_result"
    }
   ],
   "source": [
    "import requests\n",
    "\n",
    "url = \"https://gist.githubusercontent.com/tomasonjo/08dc8ba0e19d592c4c3cde40dd6abcc3/raw/da8882249af3e819a80debf3160ebbb3513ee962/microservices.json\"\n",
    "import_query = requests.get(url).json()['query']\n",
    "graph.query(import_query)\n"
   ]
  },
  {
   "cell_type": "code",
   "execution_count": 23,
   "id": "e12ec343",
   "metadata": {},
   "outputs": [
    {
     "data": {
      "text/plain": [
       "[{'test': 1}]"
      ]
     },
     "execution_count": 23,
     "metadata": {},
     "output_type": "execute_result"
    }
   ],
   "source": [
    "graph.query(\"RETURN 1 AS test\")\n"
   ]
  },
  {
   "cell_type": "code",
   "execution_count": null,
   "id": "b206f9cd",
   "metadata": {},
   "outputs": [],
   "source": [
    "import os\n",
    "from langchain.vectorstores.neo4j_vector import Neo4jVector\n",
    "from langchain.embeddings import HuggingFaceEmbeddings\n",
    "\n",
    "\n",
    "vector_index = Neo4jVector.from_existing_graph(\n",
    "    HuggingFaceEmbeddings(model_name=\"sentence-transformers/all-MiniLM-L6-v2\"),\n",
    "    url=url,\n",
    "    username=username,\n",
    "    password=password,\n",
    "    index_name='tasks',\n",
    "    node_label=\"Task\",\n",
    "    text_node_properties=['name', 'description', 'status'],\n",
    "    embedding_node_property='embedding',\n",
    ")"
   ]
  }
 ],
 "metadata": {
  "kernelspec": {
   "display_name": "langchain",
   "language": "python",
   "name": "python3"
  },
  "language_info": {
   "codemirror_mode": {
    "name": "ipython",
    "version": 3
   },
   "file_extension": ".py",
   "mimetype": "text/x-python",
   "name": "python",
   "nbconvert_exporter": "python",
   "pygments_lexer": "ipython3",
   "version": "3.11.11"
  }
 },
 "nbformat": 4,
 "nbformat_minor": 5
}
