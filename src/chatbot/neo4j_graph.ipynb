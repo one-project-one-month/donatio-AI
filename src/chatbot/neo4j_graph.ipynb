{
 "cells": [
  {
   "cell_type": "code",
   "execution_count": 12,
   "id": "6ad41c45",
   "metadata": {},
   "outputs": [
    {
     "name": "stdout",
     "output_type": "stream",
     "text": [
      "Collecting langchain_neo4j\n",
      "  Downloading langchain_neo4j-0.4.0-py3-none-any.whl.metadata (4.5 kB)\n",
      "Requirement already satisfied: langchain<0.4.0,>=0.3.7 in d:\\anaconda3\\envs\\langchain\\lib\\site-packages (from langchain_neo4j) (0.3.25)\n",
      "Requirement already satisfied: langchain-core<0.4.0,>=0.3.8 in d:\\anaconda3\\envs\\langchain\\lib\\site-packages (from langchain_neo4j) (0.3.66)\n",
      "Requirement already satisfied: neo4j<6.0.0,>=5.25.0 in d:\\anaconda3\\envs\\langchain\\lib\\site-packages (from langchain_neo4j) (5.28.1)\n",
      "Collecting neo4j-graphrag<2.0.0,>=1.5.0 (from langchain_neo4j)\n",
      "  Downloading neo4j_graphrag-1.8.0-py3-none-any.whl.metadata (18 kB)\n",
      "Requirement already satisfied: langchain-text-splitters<1.0.0,>=0.3.8 in d:\\anaconda3\\envs\\langchain\\lib\\site-packages (from langchain<0.4.0,>=0.3.7->langchain_neo4j) (0.3.8)\n",
      "Requirement already satisfied: langsmith<0.4,>=0.1.17 in d:\\anaconda3\\envs\\langchain\\lib\\site-packages (from langchain<0.4.0,>=0.3.7->langchain_neo4j) (0.3.45)\n",
      "Requirement already satisfied: pydantic<3.0.0,>=2.7.4 in d:\\anaconda3\\envs\\langchain\\lib\\site-packages (from langchain<0.4.0,>=0.3.7->langchain_neo4j) (2.11.4)\n",
      "Requirement already satisfied: SQLAlchemy<3,>=1.4 in d:\\anaconda3\\envs\\langchain\\lib\\site-packages (from langchain<0.4.0,>=0.3.7->langchain_neo4j) (2.0.38)\n",
      "Requirement already satisfied: requests<3,>=2 in d:\\anaconda3\\envs\\langchain\\lib\\site-packages (from langchain<0.4.0,>=0.3.7->langchain_neo4j) (2.32.3)\n",
      "Requirement already satisfied: PyYAML>=5.3 in d:\\anaconda3\\envs\\langchain\\lib\\site-packages (from langchain<0.4.0,>=0.3.7->langchain_neo4j) (6.0.2)\n",
      "Requirement already satisfied: tenacity!=8.4.0,<10.0.0,>=8.1.0 in d:\\anaconda3\\envs\\langchain\\lib\\site-packages (from langchain-core<0.4.0,>=0.3.8->langchain_neo4j) (8.5.0)\n",
      "Requirement already satisfied: jsonpatch<2.0,>=1.33 in d:\\anaconda3\\envs\\langchain\\lib\\site-packages (from langchain-core<0.4.0,>=0.3.8->langchain_neo4j) (1.33)\n",
      "Requirement already satisfied: packaging<25,>=23.2 in d:\\anaconda3\\envs\\langchain\\lib\\site-packages (from langchain-core<0.4.0,>=0.3.8->langchain_neo4j) (24.2)\n",
      "Requirement already satisfied: typing-extensions>=4.7 in d:\\anaconda3\\envs\\langchain\\lib\\site-packages (from langchain-core<0.4.0,>=0.3.8->langchain_neo4j) (4.13.2)\n",
      "Requirement already satisfied: pytz in d:\\anaconda3\\envs\\langchain\\lib\\site-packages (from neo4j<6.0.0,>=5.25.0->langchain_neo4j) (2024.2)\n",
      "Collecting fsspec<2025.0.0,>=2024.9.0 (from neo4j-graphrag<2.0.0,>=1.5.0->langchain_neo4j)\n",
      "  Downloading fsspec-2024.12.0-py3-none-any.whl.metadata (11 kB)\n",
      "Requirement already satisfied: json-repair<0.40.0,>=0.39.1 in d:\\anaconda3\\envs\\langchain\\lib\\site-packages (from neo4j-graphrag<2.0.0,>=1.5.0->langchain_neo4j) (0.39.1)\n",
      "Collecting numpy<3.0.0,>=2.0.0 (from neo4j-graphrag<2.0.0,>=1.5.0->langchain_neo4j)\n",
      "  Downloading numpy-2.3.1-cp311-cp311-win_amd64.whl.metadata (60 kB)\n",
      "Requirement already satisfied: pypdf<6.0.0,>=5.1.0 in d:\\anaconda3\\envs\\langchain\\lib\\site-packages (from neo4j-graphrag<2.0.0,>=1.5.0->langchain_neo4j) (5.5.0)\n",
      "Requirement already satisfied: scipy<2.0.0,>=1.13.0 in d:\\anaconda3\\envs\\langchain\\lib\\site-packages (from neo4j-graphrag<2.0.0,>=1.5.0->langchain_neo4j) (1.15.1)\n",
      "Collecting types-pyyaml<7.0.0.0,>=6.0.12.20240917 (from neo4j-graphrag<2.0.0,>=1.5.0->langchain_neo4j)\n",
      "  Downloading types_pyyaml-6.0.12.20250516-py3-none-any.whl.metadata (1.8 kB)\n",
      "Requirement already satisfied: jsonpointer>=1.9 in d:\\anaconda3\\envs\\langchain\\lib\\site-packages (from jsonpatch<2.0,>=1.33->langchain-core<0.4.0,>=0.3.8->langchain_neo4j) (3.0.0)\n",
      "Requirement already satisfied: httpx<1,>=0.23.0 in d:\\anaconda3\\envs\\langchain\\lib\\site-packages (from langsmith<0.4,>=0.1.17->langchain<0.4.0,>=0.3.7->langchain_neo4j) (0.28.1)\n",
      "Requirement already satisfied: orjson<4.0.0,>=3.9.14 in d:\\anaconda3\\envs\\langchain\\lib\\site-packages (from langsmith<0.4,>=0.1.17->langchain<0.4.0,>=0.3.7->langchain_neo4j) (3.10.15)\n",
      "Requirement already satisfied: requests-toolbelt<2.0.0,>=1.0.0 in d:\\anaconda3\\envs\\langchain\\lib\\site-packages (from langsmith<0.4,>=0.1.17->langchain<0.4.0,>=0.3.7->langchain_neo4j) (1.0.0)\n",
      "Requirement already satisfied: zstandard<0.24.0,>=0.23.0 in d:\\anaconda3\\envs\\langchain\\lib\\site-packages (from langsmith<0.4,>=0.1.17->langchain<0.4.0,>=0.3.7->langchain_neo4j) (0.23.0)\n",
      "Requirement already satisfied: annotated-types>=0.6.0 in d:\\anaconda3\\envs\\langchain\\lib\\site-packages (from pydantic<3.0.0,>=2.7.4->langchain<0.4.0,>=0.3.7->langchain_neo4j) (0.7.0)\n",
      "Requirement already satisfied: pydantic-core==2.33.2 in d:\\anaconda3\\envs\\langchain\\lib\\site-packages (from pydantic<3.0.0,>=2.7.4->langchain<0.4.0,>=0.3.7->langchain_neo4j) (2.33.2)\n",
      "Requirement already satisfied: typing-inspection>=0.4.0 in d:\\anaconda3\\envs\\langchain\\lib\\site-packages (from pydantic<3.0.0,>=2.7.4->langchain<0.4.0,>=0.3.7->langchain_neo4j) (0.4.0)\n",
      "Requirement already satisfied: charset-normalizer<4,>=2 in d:\\anaconda3\\envs\\langchain\\lib\\site-packages (from requests<3,>=2->langchain<0.4.0,>=0.3.7->langchain_neo4j) (3.4.1)\n",
      "Requirement already satisfied: idna<4,>=2.5 in d:\\anaconda3\\envs\\langchain\\lib\\site-packages (from requests<3,>=2->langchain<0.4.0,>=0.3.7->langchain_neo4j) (3.10)\n",
      "Requirement already satisfied: urllib3<3,>=1.21.1 in d:\\anaconda3\\envs\\langchain\\lib\\site-packages (from requests<3,>=2->langchain<0.4.0,>=0.3.7->langchain_neo4j) (2.3.0)\n",
      "Requirement already satisfied: certifi>=2017.4.17 in d:\\anaconda3\\envs\\langchain\\lib\\site-packages (from requests<3,>=2->langchain<0.4.0,>=0.3.7->langchain_neo4j) (2025.1.31)\n",
      "Requirement already satisfied: greenlet!=0.4.17 in d:\\anaconda3\\envs\\langchain\\lib\\site-packages (from SQLAlchemy<3,>=1.4->langchain<0.4.0,>=0.3.7->langchain_neo4j) (3.1.1)\n",
      "Requirement already satisfied: anyio in d:\\anaconda3\\envs\\langchain\\lib\\site-packages (from httpx<1,>=0.23.0->langsmith<0.4,>=0.1.17->langchain<0.4.0,>=0.3.7->langchain_neo4j) (4.8.0)\n",
      "Requirement already satisfied: httpcore==1.* in d:\\anaconda3\\envs\\langchain\\lib\\site-packages (from httpx<1,>=0.23.0->langsmith<0.4,>=0.1.17->langchain<0.4.0,>=0.3.7->langchain_neo4j) (1.0.7)\n",
      "Requirement already satisfied: h11<0.15,>=0.13 in d:\\anaconda3\\envs\\langchain\\lib\\site-packages (from httpcore==1.*->httpx<1,>=0.23.0->langsmith<0.4,>=0.1.17->langchain<0.4.0,>=0.3.7->langchain_neo4j) (0.14.0)\n",
      "Requirement already satisfied: sniffio>=1.1 in d:\\anaconda3\\envs\\langchain\\lib\\site-packages (from anyio->httpx<1,>=0.23.0->langsmith<0.4,>=0.1.17->langchain<0.4.0,>=0.3.7->langchain_neo4j) (1.3.1)\n",
      "Downloading langchain_neo4j-0.4.0-py3-none-any.whl (31 kB)\n",
      "Downloading neo4j_graphrag-1.8.0-py3-none-any.whl (189 kB)\n",
      "Downloading fsspec-2024.12.0-py3-none-any.whl (183 kB)\n",
      "Downloading numpy-2.3.1-cp311-cp311-win_amd64.whl (13.0 MB)\n",
      "   ---------------------------------------- 0.0/13.0 MB ? eta -:--:--\n",
      "   ---------------------------------------- 0.0/13.0 MB ? eta -:--:--\n",
      "   ---------------------------------------- 0.0/13.0 MB ? eta -:--:--\n",
      "    --------------------------------------- 0.3/13.0 MB ? eta -:--:--\n",
      "   - -------------------------------------- 0.5/13.0 MB 1.3 MB/s eta 0:00:10\n",
      "   -- ------------------------------------- 0.8/13.0 MB 987.4 kB/s eta 0:00:13\n",
      "   -- ------------------------------------- 0.8/13.0 MB 987.4 kB/s eta 0:00:13\n",
      "   --- ------------------------------------ 1.0/13.0 MB 799.2 kB/s eta 0:00:15\n",
      "   ---- ----------------------------------- 1.3/13.0 MB 849.7 kB/s eta 0:00:14\n",
      "   ---- ----------------------------------- 1.6/13.0 MB 902.1 kB/s eta 0:00:13\n",
      "   ----- ---------------------------------- 1.8/13.0 MB 958.5 kB/s eta 0:00:12\n",
      "   ----- ---------------------------------- 1.8/13.0 MB 958.5 kB/s eta 0:00:12\n",
      "   ------- -------------------------------- 2.4/13.0 MB 994.4 kB/s eta 0:00:11\n",
      "   -------- ------------------------------- 2.6/13.0 MB 1.0 MB/s eta 0:00:10\n",
      "   -------- ------------------------------- 2.9/13.0 MB 1.1 MB/s eta 0:00:10\n",
      "   --------- ------------------------------ 3.1/13.0 MB 1.1 MB/s eta 0:00:10\n",
      "   ----------- ---------------------------- 3.7/13.0 MB 1.1 MB/s eta 0:00:09\n",
      "   ------------ --------------------------- 3.9/13.0 MB 1.2 MB/s eta 0:00:08\n",
      "   ------------ --------------------------- 4.2/13.0 MB 1.2 MB/s eta 0:00:08\n",
      "   ------------- -------------------------- 4.5/13.0 MB 1.2 MB/s eta 0:00:08\n",
      "   -------------- ------------------------- 4.7/13.0 MB 1.2 MB/s eta 0:00:07\n",
      "   --------------- ------------------------ 5.0/13.0 MB 1.2 MB/s eta 0:00:07\n",
      "   ---------------- ----------------------- 5.2/13.0 MB 1.2 MB/s eta 0:00:07\n",
      "   ---------------- ----------------------- 5.2/13.0 MB 1.2 MB/s eta 0:00:07\n",
      "   ---------------- ----------------------- 5.2/13.0 MB 1.2 MB/s eta 0:00:07\n",
      "   ---------------- ----------------------- 5.5/13.0 MB 1.1 MB/s eta 0:00:08\n",
      "   ---------------- ----------------------- 5.5/13.0 MB 1.1 MB/s eta 0:00:08\n",
      "   ----------------- ---------------------- 5.8/13.0 MB 1.0 MB/s eta 0:00:07\n",
      "   ------------------ --------------------- 6.0/13.0 MB 1.1 MB/s eta 0:00:07\n",
      "   ------------------- -------------------- 6.3/13.0 MB 1.1 MB/s eta 0:00:07\n",
      "   -------------------- ------------------- 6.6/13.0 MB 1.1 MB/s eta 0:00:07\n",
      "   -------------------- ------------------- 6.6/13.0 MB 1.1 MB/s eta 0:00:07\n",
      "   -------------------- ------------------- 6.6/13.0 MB 1.1 MB/s eta 0:00:07\n",
      "   -------------------- ------------------- 6.8/13.0 MB 1.0 MB/s eta 0:00:07\n",
      "   -------------------- ------------------- 6.8/13.0 MB 1.0 MB/s eta 0:00:07\n",
      "   --------------------- ------------------ 7.1/13.0 MB 991.4 kB/s eta 0:00:06\n",
      "   ---------------------- ----------------- 7.3/13.0 MB 989.1 kB/s eta 0:00:06\n",
      "   ---------------------- ----------------- 7.3/13.0 MB 989.1 kB/s eta 0:00:06\n",
      "   ----------------------- ---------------- 7.6/13.0 MB 954.7 kB/s eta 0:00:06\n",
      "   ----------------------- ---------------- 7.6/13.0 MB 954.7 kB/s eta 0:00:06\n",
      "   ----------------------- ---------------- 7.6/13.0 MB 954.7 kB/s eta 0:00:06\n",
      "   ----------------------- ---------------- 7.6/13.0 MB 954.7 kB/s eta 0:00:06\n",
      "   ------------------------ --------------- 7.9/13.0 MB 902.7 kB/s eta 0:00:06\n",
      "   ------------------------ --------------- 7.9/13.0 MB 902.7 kB/s eta 0:00:06\n",
      "   ------------------------ --------------- 8.1/13.0 MB 875.4 kB/s eta 0:00:06\n",
      "   ------------------------ --------------- 8.1/13.0 MB 875.4 kB/s eta 0:00:06\n",
      "   ------------------------ --------------- 8.1/13.0 MB 875.4 kB/s eta 0:00:06\n",
      "   ------------------------- -------------- 8.4/13.0 MB 852.6 kB/s eta 0:00:06\n",
      "   ------------------------- -------------- 8.4/13.0 MB 852.6 kB/s eta 0:00:06\n",
      "   -------------------------- ------------- 8.7/13.0 MB 846.8 kB/s eta 0:00:06\n",
      "   -------------------------- ------------- 8.7/13.0 MB 846.8 kB/s eta 0:00:06\n",
      "   --------------------------- ------------ 8.9/13.0 MB 840.1 kB/s eta 0:00:05\n",
      "   ---------------------------- ----------- 9.2/13.0 MB 836.4 kB/s eta 0:00:05\n",
      "   ---------------------------- ----------- 9.4/13.0 MB 840.1 kB/s eta 0:00:05\n",
      "   ---------------------------- ----------- 9.4/13.0 MB 840.1 kB/s eta 0:00:05\n",
      "   ----------------------------- ---------- 9.7/13.0 MB 833.1 kB/s eta 0:00:04\n",
      "   ----------------------------- ---------- 9.7/13.0 MB 833.1 kB/s eta 0:00:04\n",
      "   ------------------------------ --------- 10.0/13.0 MB 836.6 kB/s eta 0:00:04\n",
      "   ------------------------------- -------- 10.2/13.0 MB 842.2 kB/s eta 0:00:04\n",
      "   -------------------------------- ------- 10.5/13.0 MB 845.3 kB/s eta 0:00:04\n",
      "   --------------------------------- ------ 10.7/13.0 MB 851.6 kB/s eta 0:00:03\n",
      "   --------------------------------- ------ 11.0/13.0 MB 848.2 kB/s eta 0:00:03\n",
      "   --------------------------------- ------ 11.0/13.0 MB 848.2 kB/s eta 0:00:03\n",
      "   ---------------------------------- ----- 11.3/13.0 MB 849.0 kB/s eta 0:00:03\n",
      "   ----------------------------------- ---- 11.5/13.0 MB 849.7 kB/s eta 0:00:02\n",
      "   ------------------------------------ --- 11.8/13.0 MB 853.4 kB/s eta 0:00:02\n",
      "   ------------------------------------ --- 11.8/13.0 MB 853.4 kB/s eta 0:00:02\n",
      "   ------------------------------------- -- 12.1/13.0 MB 850.2 kB/s eta 0:00:02\n",
      "   ------------------------------------- -- 12.1/13.0 MB 850.2 kB/s eta 0:00:02\n",
      "   ------------------------------------- -- 12.1/13.0 MB 850.2 kB/s eta 0:00:02\n",
      "   ------------------------------------- -- 12.3/13.0 MB 829.9 kB/s eta 0:00:01\n",
      "   ------------------------------------- -- 12.3/13.0 MB 829.9 kB/s eta 0:00:01\n",
      "   -------------------------------------- - 12.6/13.0 MB 830.0 kB/s eta 0:00:01\n",
      "   ---------------------------------------  12.8/13.0 MB 826.8 kB/s eta 0:00:01\n",
      "   ---------------------------------------  12.8/13.0 MB 826.8 kB/s eta 0:00:01\n",
      "   ---------------------------------------- 13.0/13.0 MB 819.2 kB/s eta 0:00:00\n",
      "Downloading types_pyyaml-6.0.12.20250516-py3-none-any.whl (20 kB)\n",
      "Installing collected packages: types-pyyaml, numpy, fsspec, neo4j-graphrag, langchain_neo4j\n",
      "  Attempting uninstall: numpy\n",
      "    Found existing installation: numpy 1.26.4\n",
      "    Uninstalling numpy-1.26.4:\n",
      "      Successfully uninstalled numpy-1.26.4\n",
      "  Attempting uninstall: fsspec\n",
      "    Found existing installation: fsspec 2025.2.0\n",
      "    Uninstalling fsspec-2025.2.0:\n",
      "      Successfully uninstalled fsspec-2025.2.0\n",
      "Successfully installed fsspec-2024.12.0 langchain_neo4j-0.4.0 neo4j-graphrag-1.8.0 numpy-2.3.1 types-pyyaml-6.0.12.20250516\n"
     ]
    },
    {
     "name": "stderr",
     "output_type": "stream",
     "text": [
      "WARNING: Ignoring invalid distribution ~penai (D:\\anaconda3\\envs\\langchain\\Lib\\site-packages)\n",
      "WARNING: Ignoring invalid distribution ~penai (D:\\anaconda3\\envs\\langchain\\Lib\\site-packages)\n",
      "  WARNING: Failed to remove contents in a temporary directory 'D:\\anaconda3\\envs\\langchain\\Lib\\site-packages\\~umpy.libs'.\n",
      "  You can safely remove it manually.\n",
      "  WARNING: Failed to remove contents in a temporary directory 'D:\\anaconda3\\envs\\langchain\\Lib\\site-packages\\~umpy'.\n",
      "  You can safely remove it manually.\n",
      "WARNING: Ignoring invalid distribution ~penai (D:\\anaconda3\\envs\\langchain\\Lib\\site-packages)\n",
      "ERROR: pip's dependency resolver does not currently take into account all the packages that are installed. This behaviour is the source of the following dependency conflicts.\n",
      "chromadb 0.5.23 requires tokenizers<=0.20.3,>=0.13.2, but you have tokenizers 0.21.1 which is incompatible.\n",
      "tensorflow 2.19.0 requires numpy<2.2.0,>=1.26.0, but you have numpy 2.3.1 which is incompatible.\n"
     ]
    }
   ],
   "source": [
    "!pip install langchain_neo4j"
   ]
  },
  {
   "cell_type": "code",
   "execution_count": 9,
   "id": "ae2a706d",
   "metadata": {},
   "outputs": [],
   "source": [
    "from neo4j import GraphDatabase\n",
    "import os \n",
    "from langchain.graphs import Neo4jGraph\n",
    "\n",
    "# URI examples: \"neo4j://localhost\", \"neo4j+s://xxx.databases.neo4j.io\"\n",
    "\n",
    "uri = os.getenv('NEO4J_URI')\n",
    "user_name = os.getenv('NEO4J_USERNAME')\n",
    "password = os.getenv('NEO4J_PASSWORD')\n",
    "\n",
    "graph = Neo4jGraph(\n",
    "    url=\"neo4j+s://9c98656c.databases.neo4j.io\", \n",
    "    username=\"neo4j\", \n",
    "    password=\"L6degoRAS1IO9E3ZMzeEujWfW0gggYkY1yXAEdJKLYQ\"\n",
    ")"
   ]
  },
  {
   "cell_type": "code",
   "execution_count": null,
   "id": "63d259a2",
   "metadata": {},
   "outputs": [
    {
     "data": {
      "text/plain": [
       "[]"
      ]
     },
     "execution_count": 2,
     "metadata": {},
     "output_type": "execute_result"
    }
   ],
   "source": [
    "import requests\n",
    "\n",
    "url = \"https://gist.githubusercontent.com/tomasonjo/08dc8ba0e19d592c4c3cde40dd6abcc3/raw/da8882249af3e819a80debf3160ebbb3513ee962/microservices.json\"\n",
    "import_query = requests.get(url).json()['query']\n",
    "graph.query(import_query)\n"
   ]
  },
  {
   "cell_type": "code",
   "execution_count": 10,
   "id": "8df6c860",
   "metadata": {},
   "outputs": [],
   "source": [
    "url=\"neo4j+s://9c98656c.databases.neo4j.io\"\n",
    "username=\"neo4j\"\n",
    "password=\"L6degoRAS1IO9E3ZMzeEujWfW0gggYkY1yXAEdJKLYQ\""
   ]
  },
  {
   "cell_type": "code",
   "execution_count": 7,
   "id": "b206f9cd",
   "metadata": {},
   "outputs": [
    {
     "ename": "AttributeError",
     "evalue": "'tuple' object has no attribute 'decode'",
     "output_type": "error",
     "traceback": [
      "\u001b[31m---------------------------------------------------------------------------\u001b[39m",
      "\u001b[31mAttributeError\u001b[39m                            Traceback (most recent call last)",
      "\u001b[36mCell\u001b[39m\u001b[36m \u001b[39m\u001b[32mIn[7]\u001b[39m\u001b[32m, line 5\u001b[39m\n\u001b[32m      2\u001b[39m \u001b[38;5;28;01mfrom\u001b[39;00m\u001b[38;5;250m \u001b[39m\u001b[34;01mlangchain\u001b[39;00m\u001b[34;01m.\u001b[39;00m\u001b[34;01mvectorstores\u001b[39;00m\u001b[34;01m.\u001b[39;00m\u001b[34;01mneo4j_vector\u001b[39;00m\u001b[38;5;250m \u001b[39m\u001b[38;5;28;01mimport\u001b[39;00m Neo4jVector\n\u001b[32m      3\u001b[39m \u001b[38;5;28;01mfrom\u001b[39;00m\u001b[38;5;250m \u001b[39m\u001b[34;01mlangchain\u001b[39;00m\u001b[34;01m.\u001b[39;00m\u001b[34;01membeddings\u001b[39;00m\u001b[38;5;250m \u001b[39m\u001b[38;5;28;01mimport\u001b[39;00m HuggingFaceEmbeddings\n\u001b[32m----> \u001b[39m\u001b[32m5\u001b[39m vector_index = \u001b[43mNeo4jVector\u001b[49m\u001b[43m.\u001b[49m\u001b[43mfrom_existing_graph\u001b[49m\u001b[43m(\u001b[49m\n\u001b[32m      6\u001b[39m \u001b[43m    \u001b[49m\u001b[43membedding\u001b[49m\u001b[43m=\u001b[49m\u001b[43mHuggingFaceEmbeddings\u001b[49m\u001b[43m(\u001b[49m\u001b[43mmodel_name\u001b[49m\u001b[43m=\u001b[49m\u001b[33;43m\"\u001b[39;49m\u001b[33;43msentence-transformers/all-mpnet-base-v2\u001b[39;49m\u001b[33;43m\"\u001b[39;49m\u001b[43m)\u001b[49m\u001b[43m,\u001b[49m\n\u001b[32m      7\u001b[39m \u001b[43m    \u001b[49m\u001b[43murl\u001b[49m\u001b[43m=\u001b[49m\u001b[43murl\u001b[49m\u001b[43m,\u001b[49m\n\u001b[32m      8\u001b[39m \u001b[43m    \u001b[49m\u001b[43musername\u001b[49m\u001b[43m=\u001b[49m\u001b[43musername\u001b[49m\u001b[43m,\u001b[49m\n\u001b[32m      9\u001b[39m \u001b[43m    \u001b[49m\u001b[43mpassword\u001b[49m\u001b[43m=\u001b[49m\u001b[43mpassword\u001b[49m\u001b[43m,\u001b[49m\n\u001b[32m     10\u001b[39m \u001b[43m    \u001b[49m\u001b[43mindex_name\u001b[49m\u001b[43m=\u001b[49m\u001b[33;43m'\u001b[39;49m\u001b[33;43mtasks\u001b[39;49m\u001b[33;43m'\u001b[39;49m\u001b[43m,\u001b[49m\n\u001b[32m     11\u001b[39m \u001b[43m    \u001b[49m\u001b[43mnode_label\u001b[49m\u001b[43m=\u001b[49m\u001b[33;43m\"\u001b[39;49m\u001b[33;43mTask\u001b[39;49m\u001b[33;43m\"\u001b[39;49m\u001b[43m,\u001b[49m\n\u001b[32m     12\u001b[39m \u001b[43m    \u001b[49m\u001b[43mtext_node_properties\u001b[49m\u001b[43m=\u001b[49m\u001b[43m[\u001b[49m\u001b[33;43m\"\u001b[39;49m\u001b[33;43mname\u001b[39;49m\u001b[33;43m\"\u001b[39;49m\u001b[43m,\u001b[49m\u001b[43m \u001b[49m\u001b[33;43m\"\u001b[39;49m\u001b[33;43mdescription\u001b[39;49m\u001b[33;43m\"\u001b[39;49m\u001b[43m,\u001b[49m\u001b[43m \u001b[49m\u001b[33;43m\"\u001b[39;49m\u001b[33;43mstatus\u001b[39;49m\u001b[33;43m\"\u001b[39;49m\u001b[43m]\u001b[49m\u001b[43m,\u001b[49m\u001b[43m  \u001b[49m\u001b[38;5;66;43;03m# Make sure this is a list\u001b[39;49;00m\n\u001b[32m     13\u001b[39m \u001b[43m    \u001b[49m\u001b[43membedding_node_property\u001b[49m\u001b[43m=\u001b[49m\u001b[33;43m\"\u001b[39;49m\u001b[33;43membedding\u001b[39;49m\u001b[33;43m\"\u001b[39;49m\u001b[43m,\u001b[49m\n\u001b[32m     14\u001b[39m \u001b[43m)\u001b[49m\n",
      "\u001b[36mFile \u001b[39m\u001b[32md:\\anaconda3\\envs\\langchain\\Lib\\site-packages\\langchain_community\\vectorstores\\neo4j_vector.py:1523\u001b[39m, in \u001b[36mNeo4jVector.from_existing_graph\u001b[39m\u001b[34m(cls, embedding, node_label, embedding_node_property, text_node_properties, keyword_index_name, index_name, search_type, retrieval_query, **kwargs)\u001b[39m\n\u001b[32m   1513\u001b[39m \u001b[38;5;28;01mif\u001b[39;00m \u001b[38;5;129;01mnot\u001b[39;00m retrieval_query:\n\u001b[32m   1514\u001b[39m     retrieval_query = (\n\u001b[32m   1515\u001b[39m         \u001b[33mf\u001b[39m\u001b[33m\"\u001b[39m\u001b[33mRETURN reduce(str=\u001b[39m\u001b[33m'\u001b[39m\u001b[33m'\u001b[39m\u001b[33m, k IN \u001b[39m\u001b[38;5;132;01m{\u001b[39;00mtext_node_properties\u001b[38;5;132;01m}\u001b[39;00m\u001b[33m |\u001b[39m\u001b[33m\"\u001b[39m\n\u001b[32m   1516\u001b[39m         \u001b[33m\"\u001b[39m\u001b[33m str + \u001b[39m\u001b[33m'\u001b[39m\u001b[38;5;130;01m\\\\\u001b[39;00m\u001b[33mn\u001b[39m\u001b[33m'\u001b[39m\u001b[33m + k + \u001b[39m\u001b[33m'\u001b[39m\u001b[33m: \u001b[39m\u001b[33m'\u001b[39m\u001b[33m + coalesce(node[k], \u001b[39m\u001b[33m'\u001b[39m\u001b[33m'\u001b[39m\u001b[33m)) AS text, \u001b[39m\u001b[33m\"\u001b[39m\n\u001b[32m   (...)\u001b[39m\u001b[32m   1521\u001b[39m         + \u001b[33m\"\u001b[39m\u001b[33m} AS metadata, score\u001b[39m\u001b[33m\"\u001b[39m\n\u001b[32m   1522\u001b[39m     )\n\u001b[32m-> \u001b[39m\u001b[32m1523\u001b[39m store = \u001b[38;5;28;43mcls\u001b[39;49m\u001b[43m(\u001b[49m\n\u001b[32m   1524\u001b[39m \u001b[43m    \u001b[49m\u001b[43membedding\u001b[49m\u001b[43m=\u001b[49m\u001b[43membedding\u001b[49m\u001b[43m,\u001b[49m\n\u001b[32m   1525\u001b[39m \u001b[43m    \u001b[49m\u001b[43mindex_name\u001b[49m\u001b[43m=\u001b[49m\u001b[43mindex_name\u001b[49m\u001b[43m,\u001b[49m\n\u001b[32m   1526\u001b[39m \u001b[43m    \u001b[49m\u001b[43mkeyword_index_name\u001b[49m\u001b[43m=\u001b[49m\u001b[43mkeyword_index_name\u001b[49m\u001b[43m,\u001b[49m\n\u001b[32m   1527\u001b[39m \u001b[43m    \u001b[49m\u001b[43msearch_type\u001b[49m\u001b[43m=\u001b[49m\u001b[43msearch_type\u001b[49m\u001b[43m,\u001b[49m\n\u001b[32m   1528\u001b[39m \u001b[43m    \u001b[49m\u001b[43mretrieval_query\u001b[49m\u001b[43m=\u001b[49m\u001b[43mretrieval_query\u001b[49m\u001b[43m,\u001b[49m\n\u001b[32m   1529\u001b[39m \u001b[43m    \u001b[49m\u001b[43mnode_label\u001b[49m\u001b[43m=\u001b[49m\u001b[43mnode_label\u001b[49m\u001b[43m,\u001b[49m\n\u001b[32m   1530\u001b[39m \u001b[43m    \u001b[49m\u001b[43membedding_node_property\u001b[49m\u001b[43m=\u001b[49m\u001b[43membedding_node_property\u001b[49m\u001b[43m,\u001b[49m\n\u001b[32m   1531\u001b[39m \u001b[43m    \u001b[49m\u001b[43m*\u001b[49m\u001b[43m*\u001b[49m\u001b[43mkwargs\u001b[49m\u001b[43m,\u001b[49m\n\u001b[32m   1532\u001b[39m \u001b[43m\u001b[49m\u001b[43m)\u001b[49m\n\u001b[32m   1534\u001b[39m \u001b[38;5;66;03m# Check if the vector index already exists\u001b[39;00m\n\u001b[32m   1535\u001b[39m embedding_dimension, index_type = store.retrieve_existing_index()\n",
      "\u001b[36mFile \u001b[39m\u001b[32md:\\anaconda3\\envs\\langchain\\Lib\\site-packages\\langchain_core\\_api\\deprecation.py:222\u001b[39m, in \u001b[36mdeprecated.<locals>.deprecate.<locals>.finalize.<locals>.warn_if_direct_instance\u001b[39m\u001b[34m(self, *args, **kwargs)\u001b[39m\n\u001b[32m    220\u001b[39m     warned = \u001b[38;5;28;01mTrue\u001b[39;00m\n\u001b[32m    221\u001b[39m     emit_warning()\n\u001b[32m--> \u001b[39m\u001b[32m222\u001b[39m \u001b[38;5;28;01mreturn\u001b[39;00m \u001b[43mwrapped\u001b[49m\u001b[43m(\u001b[49m\u001b[38;5;28;43mself\u001b[39;49m\u001b[43m,\u001b[49m\u001b[43m \u001b[49m\u001b[43m*\u001b[49m\u001b[43margs\u001b[49m\u001b[43m,\u001b[49m\u001b[43m \u001b[49m\u001b[43m*\u001b[49m\u001b[43m*\u001b[49m\u001b[43mkwargs\u001b[49m\u001b[43m)\u001b[49m\n",
      "\u001b[36mFile \u001b[39m\u001b[32md:\\anaconda3\\envs\\langchain\\Lib\\site-packages\\langchain_community\\vectorstores\\neo4j_vector.py:601\u001b[39m, in \u001b[36mNeo4jVector.__init__\u001b[39m\u001b[34m(self, embedding, search_type, username, password, url, keyword_index_name, database, index_name, node_label, embedding_node_property, text_node_property, distance_strategy, logger, pre_delete_collection, retrieval_query, relevance_score_fn, index_type, graph)\u001b[39m\n\u001b[32m    594\u001b[39m password = get_from_dict_or_env(\n\u001b[32m    595\u001b[39m     {\u001b[33m\"\u001b[39m\u001b[33mpassword\u001b[39m\u001b[33m\"\u001b[39m: password}, \u001b[33m\"\u001b[39m\u001b[33mpassword\u001b[39m\u001b[33m\"\u001b[39m, \u001b[33m\"\u001b[39m\u001b[33mNEO4J_PASSWORD\u001b[39m\u001b[33m\"\u001b[39m\n\u001b[32m    596\u001b[39m )\n\u001b[32m    597\u001b[39m database = get_from_dict_or_env(\n\u001b[32m    598\u001b[39m     {\u001b[33m\"\u001b[39m\u001b[33mdatabase\u001b[39m\u001b[33m\"\u001b[39m: database}, \u001b[33m\"\u001b[39m\u001b[33mdatabase\u001b[39m\u001b[33m\"\u001b[39m, \u001b[33m\"\u001b[39m\u001b[33mNEO4J_DATABASE\u001b[39m\u001b[33m\"\u001b[39m, \u001b[33m\"\u001b[39m\u001b[33mneo4j\u001b[39m\u001b[33m\"\u001b[39m\n\u001b[32m    599\u001b[39m )\n\u001b[32m--> \u001b[39m\u001b[32m601\u001b[39m \u001b[38;5;28mself\u001b[39m._driver = \u001b[43mneo4j\u001b[49m\u001b[43m.\u001b[49m\u001b[43mGraphDatabase\u001b[49m\u001b[43m.\u001b[49m\u001b[43mdriver\u001b[49m\u001b[43m(\u001b[49m\u001b[43murl\u001b[49m\u001b[43m,\u001b[49m\u001b[43m \u001b[49m\u001b[43mauth\u001b[49m\u001b[43m=\u001b[49m\u001b[43m(\u001b[49m\u001b[43musername\u001b[49m\u001b[43m,\u001b[49m\u001b[43m \u001b[49m\u001b[43mpassword\u001b[49m\u001b[43m)\u001b[49m\u001b[43m)\u001b[49m\n\u001b[32m    602\u001b[39m \u001b[38;5;28mself\u001b[39m._database = database\n\u001b[32m    603\u001b[39m \u001b[38;5;66;03m# Verify connection\u001b[39;00m\n",
      "\u001b[36mFile \u001b[39m\u001b[32md:\\anaconda3\\envs\\langchain\\Lib\\site-packages\\neo4j\\_sync\\driver.py:202\u001b[39m, in \u001b[36mGraphDatabase.driver\u001b[39m\u001b[34m(cls, uri, auth, **config)\u001b[39m\n\u001b[32m    183\u001b[39m \u001b[38;5;129m@classmethod\u001b[39m\n\u001b[32m    184\u001b[39m \u001b[38;5;28;01mdef\u001b[39;00m\u001b[38;5;250m \u001b[39m\u001b[34mdriver\u001b[39m(\n\u001b[32m    185\u001b[39m     \u001b[38;5;28mcls\u001b[39m,\n\u001b[32m   (...)\u001b[39m\u001b[32m    189\u001b[39m     **config,\n\u001b[32m    190\u001b[39m ) -> Driver:\n\u001b[32m    191\u001b[39m \u001b[38;5;250m    \u001b[39m\u001b[33;03m\"\"\"\u001b[39;00m\n\u001b[32m    192\u001b[39m \u001b[33;03m    Create a driver.\u001b[39;00m\n\u001b[32m    193\u001b[39m \n\u001b[32m   (...)\u001b[39m\u001b[32m    200\u001b[39m \u001b[33;03m        key-word arguments.\u001b[39;00m\n\u001b[32m    201\u001b[39m \u001b[33;03m    \"\"\"\u001b[39;00m\n\u001b[32m--> \u001b[39m\u001b[32m202\u001b[39m     driver_type, security_type, parsed = \u001b[43mparse_neo4j_uri\u001b[49m\u001b[43m(\u001b[49m\u001b[43muri\u001b[49m\u001b[43m)\u001b[49m\n\u001b[32m    204\u001b[39m     \u001b[38;5;28;01mif\u001b[39;00m \u001b[38;5;129;01mnot\u001b[39;00m \u001b[38;5;28misinstance\u001b[39m(auth, AuthManager):\n\u001b[32m    205\u001b[39m         auth = AuthManagers.static(auth)\n",
      "\u001b[36mFile \u001b[39m\u001b[32md:\\anaconda3\\envs\\langchain\\Lib\\site-packages\\neo4j\\api.py:555\u001b[39m, in \u001b[36mparse_neo4j_uri\u001b[39m\u001b[34m(uri)\u001b[39m\n\u001b[32m    554\u001b[39m \u001b[38;5;28;01mdef\u001b[39;00m\u001b[38;5;250m \u001b[39m\u001b[34mparse_neo4j_uri\u001b[39m(uri):\n\u001b[32m--> \u001b[39m\u001b[32m555\u001b[39m     parsed = \u001b[43murlparse\u001b[49m\u001b[43m(\u001b[49m\u001b[43muri\u001b[49m\u001b[43m)\u001b[49m\n\u001b[32m    557\u001b[39m     \u001b[38;5;28;01mif\u001b[39;00m parsed.username:\n\u001b[32m    558\u001b[39m         \u001b[38;5;28;01mraise\u001b[39;00m ConfigurationError(\u001b[33m\"\u001b[39m\u001b[33mUsername is not supported in the URI\u001b[39m\u001b[33m\"\u001b[39m)\n",
      "\u001b[36mFile \u001b[39m\u001b[32md:\\anaconda3\\envs\\langchain\\Lib\\urllib\\parse.py:394\u001b[39m, in \u001b[36murlparse\u001b[39m\u001b[34m(url, scheme, allow_fragments)\u001b[39m\n\u001b[32m    374\u001b[39m \u001b[38;5;28;01mdef\u001b[39;00m\u001b[38;5;250m \u001b[39m\u001b[34murlparse\u001b[39m(url, scheme=\u001b[33m'\u001b[39m\u001b[33m'\u001b[39m, allow_fragments=\u001b[38;5;28;01mTrue\u001b[39;00m):\n\u001b[32m    375\u001b[39m \u001b[38;5;250m    \u001b[39m\u001b[33;03m\"\"\"Parse a URL into 6 components:\u001b[39;00m\n\u001b[32m    376\u001b[39m \u001b[33;03m    <scheme>://<netloc>/<path>;<params>?<query>#<fragment>\u001b[39;00m\n\u001b[32m    377\u001b[39m \n\u001b[32m   (...)\u001b[39m\u001b[32m    392\u001b[39m \u001b[33;03m    Note that % escapes are not expanded.\u001b[39;00m\n\u001b[32m    393\u001b[39m \u001b[33;03m    \"\"\"\u001b[39;00m\n\u001b[32m--> \u001b[39m\u001b[32m394\u001b[39m     url, scheme, _coerce_result = \u001b[43m_coerce_args\u001b[49m\u001b[43m(\u001b[49m\u001b[43murl\u001b[49m\u001b[43m,\u001b[49m\u001b[43m \u001b[49m\u001b[43mscheme\u001b[49m\u001b[43m)\u001b[49m\n\u001b[32m    395\u001b[39m     splitresult = urlsplit(url, scheme, allow_fragments)\n\u001b[32m    396\u001b[39m     scheme, netloc, url, query, fragment = splitresult\n",
      "\u001b[36mFile \u001b[39m\u001b[32md:\\anaconda3\\envs\\langchain\\Lib\\urllib\\parse.py:133\u001b[39m, in \u001b[36m_coerce_args\u001b[39m\u001b[34m(*args)\u001b[39m\n\u001b[32m    131\u001b[39m \u001b[38;5;28;01mif\u001b[39;00m str_input:\n\u001b[32m    132\u001b[39m     \u001b[38;5;28;01mreturn\u001b[39;00m args + (_noop,)\n\u001b[32m--> \u001b[39m\u001b[32m133\u001b[39m \u001b[38;5;28;01mreturn\u001b[39;00m \u001b[43m_decode_args\u001b[49m\u001b[43m(\u001b[49m\u001b[43margs\u001b[49m\u001b[43m)\u001b[49m + (_encode_result,)\n",
      "\u001b[36mFile \u001b[39m\u001b[32md:\\anaconda3\\envs\\langchain\\Lib\\urllib\\parse.py:117\u001b[39m, in \u001b[36m_decode_args\u001b[39m\u001b[34m(args, encoding, errors)\u001b[39m\n\u001b[32m    115\u001b[39m \u001b[38;5;28;01mdef\u001b[39;00m\u001b[38;5;250m \u001b[39m\u001b[34m_decode_args\u001b[39m(args, encoding=_implicit_encoding,\n\u001b[32m    116\u001b[39m                        errors=_implicit_errors):\n\u001b[32m--> \u001b[39m\u001b[32m117\u001b[39m     \u001b[38;5;28;01mreturn\u001b[39;00m \u001b[38;5;28;43mtuple\u001b[39;49m\u001b[43m(\u001b[49m\u001b[43mx\u001b[49m\u001b[43m.\u001b[49m\u001b[43mdecode\u001b[49m\u001b[43m(\u001b[49m\u001b[43mencoding\u001b[49m\u001b[43m,\u001b[49m\u001b[43m \u001b[49m\u001b[43merrors\u001b[49m\u001b[43m)\u001b[49m\u001b[43m \u001b[49m\u001b[38;5;28;43;01mif\u001b[39;49;00m\u001b[43m \u001b[49m\u001b[43mx\u001b[49m\u001b[43m \u001b[49m\u001b[38;5;28;43;01melse\u001b[39;49;00m\u001b[43m \u001b[49m\u001b[33;43m'\u001b[39;49m\u001b[33;43m'\u001b[39;49m\u001b[43m \u001b[49m\u001b[38;5;28;43;01mfor\u001b[39;49;00m\u001b[43m \u001b[49m\u001b[43mx\u001b[49m\u001b[43m \u001b[49m\u001b[38;5;129;43;01min\u001b[39;49;00m\u001b[43m \u001b[49m\u001b[43margs\u001b[49m\u001b[43m)\u001b[49m\n",
      "\u001b[36mFile \u001b[39m\u001b[32md:\\anaconda3\\envs\\langchain\\Lib\\urllib\\parse.py:117\u001b[39m, in \u001b[36m<genexpr>\u001b[39m\u001b[34m(.0)\u001b[39m\n\u001b[32m    115\u001b[39m \u001b[38;5;28;01mdef\u001b[39;00m\u001b[38;5;250m \u001b[39m\u001b[34m_decode_args\u001b[39m(args, encoding=_implicit_encoding,\n\u001b[32m    116\u001b[39m                        errors=_implicit_errors):\n\u001b[32m--> \u001b[39m\u001b[32m117\u001b[39m     \u001b[38;5;28;01mreturn\u001b[39;00m \u001b[38;5;28mtuple\u001b[39m(\u001b[43mx\u001b[49m\u001b[43m.\u001b[49m\u001b[43mdecode\u001b[49m(encoding, errors) \u001b[38;5;28;01mif\u001b[39;00m x \u001b[38;5;28;01melse\u001b[39;00m \u001b[33m'\u001b[39m\u001b[33m'\u001b[39m \u001b[38;5;28;01mfor\u001b[39;00m x \u001b[38;5;129;01min\u001b[39;00m args)\n",
      "\u001b[31mAttributeError\u001b[39m: 'tuple' object has no attribute 'decode'"
     ]
    }
   ],
   "source": [
    "import os\n",
    "from langchain.vectorstores.neo4j_vector import Neo4jVector\n",
    "from langchain.embeddings import HuggingFaceEmbeddings\n",
    "\n",
    "vector_index = Neo4jVector.from_existing_graph(\n",
    "    embedding=HuggingFaceEmbeddings(model_name=\"sentence-transformers/all-mpnet-base-v2\"),\n",
    "    url=url,\n",
    "    username=username,\n",
    "    password=password,\n",
    "    index_name='tasks',\n",
    "    node_label=\"Task\",\n",
    "    text_node_properties=[\"name\", \"description\", \"status\"],  # Make sure this is a list\n",
    "    embedding_node_property=\"embedding\",\n",
    ")\n"
   ]
  },
  {
   "cell_type": "code",
   "execution_count": 14,
   "id": "2a2cba7f",
   "metadata": {},
   "outputs": [],
   "source": [
    "from langchain_community.document_loaders import TextLoader\n",
    "from langchain_core.documents import Document\n",
    "from langchain_neo4j import Neo4jVector\n",
    "from langchain_text_splitters import CharacterTextSplitter\n",
    "from langchain_community.embeddings import HuggingFaceEmbeddings"
   ]
  },
  {
   "cell_type": "code",
   "execution_count": 12,
   "id": "a0928f58",
   "metadata": {},
   "outputs": [],
   "source": [
    "loader = TextLoader(\"text.txt\")\n",
    "\n",
    "documents = loader.load()\n",
    "text_splitter = CharacterTextSplitter(chunk_size=1000, chunk_overlap=0)\n",
    "docs = text_splitter.split_documents(documents)\n"
   ]
  },
  {
   "cell_type": "code",
   "execution_count": 52,
   "id": "b53cf01d",
   "metadata": {},
   "outputs": [],
   "source": [
    "vector_index = Neo4jVector.from_documents(\n",
    "    documents=docs,\n",
    "    embedding=HuggingFaceEmbeddings(model_name=\"sentence-transformers/all-mpnet-base-v2\"),\n",
    "    url=url,\n",
    "    username=username,\n",
    "    password=password,\n",
    "    index_name='valorant_game_index',\n",
    "    node_label='Game',\n",
    "    embedding_node_property='embedding'\n",
    ")"
   ]
  },
  {
   "cell_type": "code",
   "execution_count": 54,
   "id": "b25cc44e",
   "metadata": {},
   "outputs": [
    {
     "name": "stdout",
     "output_type": "stream",
     "text": [
      "Valorant is a free-to-play 5v5 tactical first-person shooter (FPS) developed and published by Riot Games. Released officially on June 2, 2020, it's available on Windows, with a console version (PS5, Xbox Series X/S) launched in 2024 (though PC and console do not share cross-play to ensure fairness).\n",
      "\n",
      "The game combines precise gunplay (similar to CS:GO) with unique character abilities (inspired by Overwatch), creating a fast-paced yet highly strategic competitive experience.\n",
      "\n",
      "Core Mode (Unrated/Competitive): Attackers try to plant the Spike (a bomb), and defenders attempt to stop or defuse it. First to 13 rounds wins.\n",
      "\n",
      "Economy System: Each player earns money per round to buy weapons and abilities.\n",
      "\n",
      "Abilities + Gunplay: Each Agent has a set of abilities (including an Ultimate), but success still heavily relies on accurate shooting.\n",
      "\n",
      "As of 2025, Valorant features 25+ Agents across 4 roles:\n"
     ]
    }
   ],
   "source": [
    "response = vector_index.similarity_search(\n",
    "    \"What is valorant\",\n",
    ")\n",
    "#print(response[0].page_content)\n",
    "# name: BugFix\n",
    "# description: Add a new feature to RecommendationService to provide ...\n",
    "# status: In Progress\n",
    "print(response[0].page_content)"
   ]
  },
  {
   "cell_type": "code",
   "execution_count": 48,
   "id": "6b2b2926",
   "metadata": {},
   "outputs": [
    {
     "data": {
      "text/plain": [
       "'Valorant is a free-to-play, tactical first-person shooter game developed by Riot Games, the same company that created League of Legends. It was released on June 2, 2020, for Microsoft Windows.\\n\\nIn Valorant, players are divided into two teams of five players each: Attackers and Defenders. The Attackers\\' goal is to plant a bomb, called a \"Spike,\" at one of the designated sites on the map, while the Defenders must prevent them from doing so or defuse the Spike if it\\'s already been planted.\\n\\nThe game features a variety of playable characters, known as \"Agents,\" each with unique abilities and playstyles. These Agents can be used to gain a strategic advantage in the game, such as healing teammates, blocking enemy movements, or revealing enemy positions.\\n\\nValorant is known for its competitive gameplay, precise gunplay, and strategic team coordination, making it a popular game among fans of first-person shooters and esports.'"
      ]
     },
     "execution_count": 48,
     "metadata": {},
     "output_type": "execute_result"
    }
   ],
   "source": [
    "from langchain.chains import RetrievalQA\n",
    "from langchain.chat_models import init_chat_model\n",
    "\n",
    "vector_qa = RetrievalQA.from_chain_type(\n",
    "    llm=init_chat_model(\"groq:llama-3.3-70b-versatile\"),\n",
    "    chain_type=\"stuff\",\n",
    "    retriever=vector_index.as_retriever()\n",
    ")\n",
    "vector_qa.run(\n",
    "    \"What is Valorant\"\n",
    ")"
   ]
  },
  {
   "cell_type": "code",
   "execution_count": null,
   "id": "dc8b43ed",
   "metadata": {},
   "outputs": [],
   "source": []
  }
 ],
 "metadata": {
  "kernelspec": {
   "display_name": "langchain",
   "language": "python",
   "name": "python3"
  },
  "language_info": {
   "codemirror_mode": {
    "name": "ipython",
    "version": 3
   },
   "file_extension": ".py",
   "mimetype": "text/x-python",
   "name": "python",
   "nbconvert_exporter": "python",
   "pygments_lexer": "ipython3",
   "version": "3.11.11"
  }
 },
 "nbformat": 4,
 "nbformat_minor": 5
}
